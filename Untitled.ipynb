{
 "cells": [
  {
   "cell_type": "code",
   "execution_count": 1,
   "id": "1676b35c-12e2-4f88-bbae-389687c1aac7",
   "metadata": {},
   "outputs": [],
   "source": [
    "import pandas as pd"
   ]
  },
  {
   "cell_type": "code",
   "execution_count": 57,
   "id": "12932b18-0604-416a-b8c5-314bdb4f07d2",
   "metadata": {},
   "outputs": [],
   "source": [
    "dataset = pd.DataFrame({'isacco': [2,np.nan], 'luigi':[1,0]})\n"
   ]
  },
  {
   "cell_type": "code",
   "execution_count": 58,
   "id": "0ef28a00-be0f-4b82-bd85-3212bf8332c6",
   "metadata": {},
   "outputs": [
    {
     "data": {
      "text/plain": [
       "1"
      ]
     },
     "execution_count": 58,
     "metadata": {},
     "output_type": "execute_result"
    }
   ],
   "source": [
    "dataset.isacco.count()"
   ]
  },
  {
   "cell_type": "code",
   "execution_count": 41,
   "id": "b65dee74-12fe-4626-8e66-8af8db5da7c9",
   "metadata": {},
   "outputs": [],
   "source": [
    "import pandas as pd\n",
    "dataset = pd.DataFrame({'isacco': [2,3], 'luigi':[1,0]})\n",
    "dataset.to_csv('punticarrom.csv', index=False)\n",
    "colonne = pd.read_csv('punticarrom.csv').columns.tolist()\n",
    "giocatori = ', '.join(colonne)"
   ]
  },
  {
   "cell_type": "code",
   "execution_count": 42,
   "id": "17662f70-5ba1-419b-b1b7-b6a497eb3241",
   "metadata": {},
   "outputs": [
    {
     "name": "stdout",
     "output_type": "stream",
     "text": [
      "ciao ai isacco, luigi\n"
     ]
    }
   ],
   "source": [
    "print(f'ciao ai {giocatori}')"
   ]
  },
  {
   "cell_type": "code",
   "execution_count": 20,
   "id": "d644c556-5397-4733-bbff-2164b0d66e5b",
   "metadata": {},
   "outputs": [
    {
     "ename": "NameError",
     "evalue": "name 'upper' is not defined",
     "output_type": "error",
     "traceback": [
      "\u001b[0;31m---------------------------------------------------------------------------\u001b[0m",
      "\u001b[0;31mNameError\u001b[0m                                 Traceback (most recent call last)",
      "Cell \u001b[0;32mIn[20], line 1\u001b[0m\n\u001b[0;32m----> 1\u001b[0m upper(\u001b[38;5;124m'\u001b[39m\u001b[38;5;124mciao\u001b[39m\u001b[38;5;124m'\u001b[39m)\n",
      "\u001b[0;31mNameError\u001b[0m: name 'upper' is not defined"
     ]
    }
   ],
   "source": [
    "upper('ciao')"
   ]
  },
  {
   "cell_type": "code",
   "execution_count": 21,
   "id": "21f65171-e842-4271-8f1c-4f719a67f649",
   "metadata": {},
   "outputs": [
    {
     "data": {
      "text/html": [
       "<div>\n",
       "<style scoped>\n",
       "    .dataframe tbody tr th:only-of-type {\n",
       "        vertical-align: middle;\n",
       "    }\n",
       "\n",
       "    .dataframe tbody tr th {\n",
       "        vertical-align: top;\n",
       "    }\n",
       "\n",
       "    .dataframe thead th {\n",
       "        text-align: right;\n",
       "    }\n",
       "</style>\n",
       "<table border=\"1\" class=\"dataframe\">\n",
       "  <thead>\n",
       "    <tr style=\"text-align: right;\">\n",
       "      <th></th>\n",
       "      <th>A</th>\n",
       "      <th>B</th>\n",
       "      <th>C</th>\n",
       "      <th>D</th>\n",
       "    </tr>\n",
       "  </thead>\n",
       "  <tbody>\n",
       "  </tbody>\n",
       "</table>\n",
       "</div>"
      ],
      "text/plain": [
       "Empty DataFrame\n",
       "Columns: [A, B, C, D]\n",
       "Index: []"
      ]
     },
     "execution_count": 21,
     "metadata": {},
     "output_type": "execute_result"
    }
   ],
   "source": [
    "import pandas as pd\n",
    "import numpy as np\n",
    "\n",
    "# Example DataFrame with unknown columns\n",
    "df = pd.DataFrame(columns=[\"A\", \"B\", \"C\", \"D\"])\n",
    "df"
   ]
  },
  {
   "cell_type": "code",
   "execution_count": 22,
   "id": "ba9d5d0a-d8bb-48ee-b144-0dd5c5c6b70c",
   "metadata": {},
   "outputs": [],
   "source": [
    "# Define new row with only A and B filled\n",
    "new_row = {\"A\": 5, \"B\": 10}  # Only set values for known columns"
   ]
  },
  {
   "cell_type": "code",
   "execution_count": 23,
   "id": "d5229a28-2415-4925-990d-6dce11c5310f",
   "metadata": {},
   "outputs": [
    {
     "name": "stdout",
     "output_type": "stream",
     "text": [
      "   A   B   C   D\n",
      "0  5  10 NaN NaN\n"
     ]
    }
   ],
   "source": [
    "# Append the new row with NaN for unspecified columns\n",
    "df.loc[len(df)] = {col: new_row.get(col, np.nan) for col in df.columns}\n",
    "\n",
    "print(df)"
   ]
  },
  {
   "cell_type": "code",
   "execution_count": null,
   "id": "7cf285d4-e953-4850-a66b-3fd7013154ca",
   "metadata": {},
   "outputs": [],
   "source": []
  }
 ],
 "metadata": {
  "kernelspec": {
   "display_name": "Python 3 (ipykernel)",
   "language": "python",
   "name": "python3"
  },
  "language_info": {
   "codemirror_mode": {
    "name": "ipython",
    "version": 3
   },
   "file_extension": ".py",
   "mimetype": "text/x-python",
   "name": "python",
   "nbconvert_exporter": "python",
   "pygments_lexer": "ipython3",
   "version": "3.12.2"
  }
 },
 "nbformat": 4,
 "nbformat_minor": 5
}
