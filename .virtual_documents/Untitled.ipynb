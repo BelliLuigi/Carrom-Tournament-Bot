import pandas as pd


dataset = pd.DataFrame({'isacco': [2,np.nan], 'luigi':[1,0]})



dataset.isacco.count()


import pandas as pd
dataset = pd.DataFrame({'isacco': [2,3], 'luigi':[1,0]})
dataset.to_csv('punticarrom.csv', index=False)
colonne = pd.read_csv('punticarrom.csv').columns.tolist()
giocatori = ', '.join(colonne)


print(f'ciao ai {giocatori}')


upper('ciao')


import pandas as pd
import numpy as np

# Example DataFrame with unknown columns
df = pd.DataFrame(columns=["A", "B", "C", "D"])
df


# Define new row with only A and B filled
new_row = {"A": 5, "B": 10}  # Only set values for known columns


# Append the new row with NaN for unspecified columns
df.loc[len(df)] = {col: new_row.get(col, np.nan) for col in df.columns}

print(df)



